{
  "nbformat": 4,
  "nbformat_minor": 0,
  "metadata": {
    "colab": {
      "name": "Starter NMA.ipynb",
      "provenance": [],
      "collapsed_sections": [],
      "authorship_tag": "ABX9TyP7EH9uaPBiTYQfawybUUv1",
      "include_colab_link": true
    },
    "kernelspec": {
      "name": "python3",
      "display_name": "Python 3"
    },
    "language_info": {
      "name": "python"
    },
    "gpuClass": "standard"
  },
  "cells": [
    {
      "cell_type": "markdown",
      "metadata": {
        "id": "view-in-github",
        "colab_type": "text"
      },
      "source": [
        "<a href=\"https://colab.research.google.com/github/luisashimabucoro/NMA-Project-Code-Summarization/blob/main/Starter_NMA.ipynb\" target=\"_parent\"><img src=\"https://colab.research.google.com/assets/colab-badge.svg\" alt=\"Open In Colab\"/></a>"
      ]
    },
    {
      "cell_type": "markdown",
      "source": [
        "**Preliminaries**"
      ],
      "metadata": {
        "id": "WIjWyvsybAPD"
      }
    },
    {
      "cell_type": "code",
      "source": [
        "!pip install transformers &> /dev/null\n",
        "\n",
        "import numpy as np\n",
        "import pandas as pd\n",
        "from tqdm.notebook import tqdm\n",
        "import matplotlib.pyplot as plt\n",
        "\n",
        "import torch\n",
        "import transformers\n",
        "import torch.nn as nn\n",
        "import torch.nn.functional as F\n",
        "from torch.cuda.amp import GradScaler, autocast\n",
        "from torch.utils.data import Dataset, DataLoader\n"
      ],
      "metadata": {
        "id": "X8XWLGRUiNSr"
      },
      "execution_count": 46,
      "outputs": []
    },
    {
      "cell_type": "code",
      "execution_count": 47,
      "metadata": {
        "colab": {
          "base_uri": "https://localhost:8080/"
        },
        "id": "61avk545hCV8",
        "outputId": "adb2889d-003f-4760-c327-f7ad5bc71163"
      },
      "outputs": [
        {
          "output_type": "stream",
          "name": "stdout",
          "text": [
            "Drive already mounted at /content/gdrive; to attempt to forcibly remount, call drive.mount(\"/content/gdrive\", force_remount=True).\n"
          ]
        }
      ],
      "source": [
        "# mount gdrive\n",
        "\n",
        "from google.colab import drive\n",
        "drive.mount('/content/gdrive')"
      ]
    },
    {
      "cell_type": "markdown",
      "source": [
        "**Basic EDA**"
      ],
      "metadata": {
        "id": "XareqRpeana6"
      }
    },
    {
      "cell_type": "code",
      "source": [
        "data_df = pd.read_json('/content/gdrive/Shareddrives/Dolma2/Datasets/python/train.jsonl', lines=True)"
      ],
      "metadata": {
        "id": "T_YZCJLOiPeO"
      },
      "execution_count": 48,
      "outputs": []
    },
    {
      "cell_type": "code",
      "source": [
        "data_df.head() # samples"
      ],
      "metadata": {
        "colab": {
          "base_uri": "https://localhost:8080/",
          "height": 669
        },
        "id": "M7lw9Kybi2f7",
        "outputId": "3f5ce597-eedc-4f8e-c231-8691e588d98e"
      },
      "execution_count": 49,
      "outputs": [
        {
          "output_type": "execute_result",
          "data": {
            "text/plain": [
              "                   repo                path          func_name  \\\n",
              "0  smdabdoub/phylotoast  phylotoast/util.py    split_phylogeny   \n",
              "1  smdabdoub/phylotoast  phylotoast/util.py         ensure_dir   \n",
              "2  smdabdoub/phylotoast  phylotoast/util.py        file_handle   \n",
              "3  smdabdoub/phylotoast  phylotoast/util.py  gather_categories   \n",
              "4  smdabdoub/phylotoast  phylotoast/util.py      parse_unifrac   \n",
              "\n",
              "                                     original_string language  \\\n",
              "0  def split_phylogeny(p, level=\"s\"):\\n    \"\"\"\\n ...   python   \n",
              "1  def ensure_dir(d):\\n    \"\"\"\\n    Check to make...   python   \n",
              "2  def file_handle(fnh, mode=\"rU\"):\\n    \"\"\"\\n   ...   python   \n",
              "3  def gather_categories(imap, header, categories...   python   \n",
              "4  def parse_unifrac(unifracFN):\\n    \"\"\"\\n    Pa...   python   \n",
              "\n",
              "                                                code  \\\n",
              "0  def split_phylogeny(p, level=\"s\"):\\n    \"\"\"\\n ...   \n",
              "1  def ensure_dir(d):\\n    \"\"\"\\n    Check to make...   \n",
              "2  def file_handle(fnh, mode=\"rU\"):\\n    \"\"\"\\n   ...   \n",
              "3  def gather_categories(imap, header, categories...   \n",
              "4  def parse_unifrac(unifracFN):\\n    \"\"\"\\n    Pa...   \n",
              "\n",
              "                                         code_tokens  \\\n",
              "0  [def, split_phylogeny, (, p, ,, level, =, \"s\",...   \n",
              "1  [def, ensure_dir, (, d, ), :, if, not, os, ., ...   \n",
              "2  [def, file_handle, (, fnh, ,, mode, =, \"rU\", )...   \n",
              "3  [def, gather_categories, (, imap, ,, header, ,...   \n",
              "4  [def, parse_unifrac, (, unifracFN, ), :, with,...   \n",
              "\n",
              "                                           docstring  \\\n",
              "0  Return either the full or truncated version of...   \n",
              "1  Check to make sure the supplied directory path...   \n",
              "2  Takes either a file path or an open file handl...   \n",
              "3  Find the user specified categories in the map ...   \n",
              "4  Parses the unifrac results file into a diction...   \n",
              "\n",
              "                                    docstring_tokens  \\\n",
              "0  [Return, either, the, full, or, truncated, ver...   \n",
              "1  [Check, to, make, sure, the, supplied, directo...   \n",
              "2  [Takes, either, a, file, path, or, an, open, f...   \n",
              "3  [Find, the, user, specified, categories, in, t...   \n",
              "4  [Parses, the, unifrac, results, file, into, a,...   \n",
              "\n",
              "                                        sha  \\\n",
              "0  0b74ef171e6a84761710548501dfac71285a58a3   \n",
              "1  0b74ef171e6a84761710548501dfac71285a58a3   \n",
              "2  0b74ef171e6a84761710548501dfac71285a58a3   \n",
              "3  0b74ef171e6a84761710548501dfac71285a58a3   \n",
              "4  0b74ef171e6a84761710548501dfac71285a58a3   \n",
              "\n",
              "                                                 url partition  \n",
              "0  https://github.com/smdabdoub/phylotoast/blob/0...     train  \n",
              "1  https://github.com/smdabdoub/phylotoast/blob/0...     train  \n",
              "2  https://github.com/smdabdoub/phylotoast/blob/0...     train  \n",
              "3  https://github.com/smdabdoub/phylotoast/blob/0...     train  \n",
              "4  https://github.com/smdabdoub/phylotoast/blob/0...     train  "
            ],
            "text/html": [
              "\n",
              "  <div id=\"df-1d049c47-ae03-41bb-aa84-d2facbfb8056\">\n",
              "    <div class=\"colab-df-container\">\n",
              "      <div>\n",
              "<style scoped>\n",
              "    .dataframe tbody tr th:only-of-type {\n",
              "        vertical-align: middle;\n",
              "    }\n",
              "\n",
              "    .dataframe tbody tr th {\n",
              "        vertical-align: top;\n",
              "    }\n",
              "\n",
              "    .dataframe thead th {\n",
              "        text-align: right;\n",
              "    }\n",
              "</style>\n",
              "<table border=\"1\" class=\"dataframe\">\n",
              "  <thead>\n",
              "    <tr style=\"text-align: right;\">\n",
              "      <th></th>\n",
              "      <th>repo</th>\n",
              "      <th>path</th>\n",
              "      <th>func_name</th>\n",
              "      <th>original_string</th>\n",
              "      <th>language</th>\n",
              "      <th>code</th>\n",
              "      <th>code_tokens</th>\n",
              "      <th>docstring</th>\n",
              "      <th>docstring_tokens</th>\n",
              "      <th>sha</th>\n",
              "      <th>url</th>\n",
              "      <th>partition</th>\n",
              "    </tr>\n",
              "  </thead>\n",
              "  <tbody>\n",
              "    <tr>\n",
              "      <th>0</th>\n",
              "      <td>smdabdoub/phylotoast</td>\n",
              "      <td>phylotoast/util.py</td>\n",
              "      <td>split_phylogeny</td>\n",
              "      <td>def split_phylogeny(p, level=\"s\"):\\n    \"\"\"\\n ...</td>\n",
              "      <td>python</td>\n",
              "      <td>def split_phylogeny(p, level=\"s\"):\\n    \"\"\"\\n ...</td>\n",
              "      <td>[def, split_phylogeny, (, p, ,, level, =, \"s\",...</td>\n",
              "      <td>Return either the full or truncated version of...</td>\n",
              "      <td>[Return, either, the, full, or, truncated, ver...</td>\n",
              "      <td>0b74ef171e6a84761710548501dfac71285a58a3</td>\n",
              "      <td>https://github.com/smdabdoub/phylotoast/blob/0...</td>\n",
              "      <td>train</td>\n",
              "    </tr>\n",
              "    <tr>\n",
              "      <th>1</th>\n",
              "      <td>smdabdoub/phylotoast</td>\n",
              "      <td>phylotoast/util.py</td>\n",
              "      <td>ensure_dir</td>\n",
              "      <td>def ensure_dir(d):\\n    \"\"\"\\n    Check to make...</td>\n",
              "      <td>python</td>\n",
              "      <td>def ensure_dir(d):\\n    \"\"\"\\n    Check to make...</td>\n",
              "      <td>[def, ensure_dir, (, d, ), :, if, not, os, ., ...</td>\n",
              "      <td>Check to make sure the supplied directory path...</td>\n",
              "      <td>[Check, to, make, sure, the, supplied, directo...</td>\n",
              "      <td>0b74ef171e6a84761710548501dfac71285a58a3</td>\n",
              "      <td>https://github.com/smdabdoub/phylotoast/blob/0...</td>\n",
              "      <td>train</td>\n",
              "    </tr>\n",
              "    <tr>\n",
              "      <th>2</th>\n",
              "      <td>smdabdoub/phylotoast</td>\n",
              "      <td>phylotoast/util.py</td>\n",
              "      <td>file_handle</td>\n",
              "      <td>def file_handle(fnh, mode=\"rU\"):\\n    \"\"\"\\n   ...</td>\n",
              "      <td>python</td>\n",
              "      <td>def file_handle(fnh, mode=\"rU\"):\\n    \"\"\"\\n   ...</td>\n",
              "      <td>[def, file_handle, (, fnh, ,, mode, =, \"rU\", )...</td>\n",
              "      <td>Takes either a file path or an open file handl...</td>\n",
              "      <td>[Takes, either, a, file, path, or, an, open, f...</td>\n",
              "      <td>0b74ef171e6a84761710548501dfac71285a58a3</td>\n",
              "      <td>https://github.com/smdabdoub/phylotoast/blob/0...</td>\n",
              "      <td>train</td>\n",
              "    </tr>\n",
              "    <tr>\n",
              "      <th>3</th>\n",
              "      <td>smdabdoub/phylotoast</td>\n",
              "      <td>phylotoast/util.py</td>\n",
              "      <td>gather_categories</td>\n",
              "      <td>def gather_categories(imap, header, categories...</td>\n",
              "      <td>python</td>\n",
              "      <td>def gather_categories(imap, header, categories...</td>\n",
              "      <td>[def, gather_categories, (, imap, ,, header, ,...</td>\n",
              "      <td>Find the user specified categories in the map ...</td>\n",
              "      <td>[Find, the, user, specified, categories, in, t...</td>\n",
              "      <td>0b74ef171e6a84761710548501dfac71285a58a3</td>\n",
              "      <td>https://github.com/smdabdoub/phylotoast/blob/0...</td>\n",
              "      <td>train</td>\n",
              "    </tr>\n",
              "    <tr>\n",
              "      <th>4</th>\n",
              "      <td>smdabdoub/phylotoast</td>\n",
              "      <td>phylotoast/util.py</td>\n",
              "      <td>parse_unifrac</td>\n",
              "      <td>def parse_unifrac(unifracFN):\\n    \"\"\"\\n    Pa...</td>\n",
              "      <td>python</td>\n",
              "      <td>def parse_unifrac(unifracFN):\\n    \"\"\"\\n    Pa...</td>\n",
              "      <td>[def, parse_unifrac, (, unifracFN, ), :, with,...</td>\n",
              "      <td>Parses the unifrac results file into a diction...</td>\n",
              "      <td>[Parses, the, unifrac, results, file, into, a,...</td>\n",
              "      <td>0b74ef171e6a84761710548501dfac71285a58a3</td>\n",
              "      <td>https://github.com/smdabdoub/phylotoast/blob/0...</td>\n",
              "      <td>train</td>\n",
              "    </tr>\n",
              "  </tbody>\n",
              "</table>\n",
              "</div>\n",
              "      <button class=\"colab-df-convert\" onclick=\"convertToInteractive('df-1d049c47-ae03-41bb-aa84-d2facbfb8056')\"\n",
              "              title=\"Convert this dataframe to an interactive table.\"\n",
              "              style=\"display:none;\">\n",
              "        \n",
              "  <svg xmlns=\"http://www.w3.org/2000/svg\" height=\"24px\"viewBox=\"0 0 24 24\"\n",
              "       width=\"24px\">\n",
              "    <path d=\"M0 0h24v24H0V0z\" fill=\"none\"/>\n",
              "    <path d=\"M18.56 5.44l.94 2.06.94-2.06 2.06-.94-2.06-.94-.94-2.06-.94 2.06-2.06.94zm-11 1L8.5 8.5l.94-2.06 2.06-.94-2.06-.94L8.5 2.5l-.94 2.06-2.06.94zm10 10l.94 2.06.94-2.06 2.06-.94-2.06-.94-.94-2.06-.94 2.06-2.06.94z\"/><path d=\"M17.41 7.96l-1.37-1.37c-.4-.4-.92-.59-1.43-.59-.52 0-1.04.2-1.43.59L10.3 9.45l-7.72 7.72c-.78.78-.78 2.05 0 2.83L4 21.41c.39.39.9.59 1.41.59.51 0 1.02-.2 1.41-.59l7.78-7.78 2.81-2.81c.8-.78.8-2.07 0-2.86zM5.41 20L4 18.59l7.72-7.72 1.47 1.35L5.41 20z\"/>\n",
              "  </svg>\n",
              "      </button>\n",
              "      \n",
              "  <style>\n",
              "    .colab-df-container {\n",
              "      display:flex;\n",
              "      flex-wrap:wrap;\n",
              "      gap: 12px;\n",
              "    }\n",
              "\n",
              "    .colab-df-convert {\n",
              "      background-color: #E8F0FE;\n",
              "      border: none;\n",
              "      border-radius: 50%;\n",
              "      cursor: pointer;\n",
              "      display: none;\n",
              "      fill: #1967D2;\n",
              "      height: 32px;\n",
              "      padding: 0 0 0 0;\n",
              "      width: 32px;\n",
              "    }\n",
              "\n",
              "    .colab-df-convert:hover {\n",
              "      background-color: #E2EBFA;\n",
              "      box-shadow: 0px 1px 2px rgba(60, 64, 67, 0.3), 0px 1px 3px 1px rgba(60, 64, 67, 0.15);\n",
              "      fill: #174EA6;\n",
              "    }\n",
              "\n",
              "    [theme=dark] .colab-df-convert {\n",
              "      background-color: #3B4455;\n",
              "      fill: #D2E3FC;\n",
              "    }\n",
              "\n",
              "    [theme=dark] .colab-df-convert:hover {\n",
              "      background-color: #434B5C;\n",
              "      box-shadow: 0px 1px 3px 1px rgba(0, 0, 0, 0.15);\n",
              "      filter: drop-shadow(0px 1px 2px rgba(0, 0, 0, 0.3));\n",
              "      fill: #FFFFFF;\n",
              "    }\n",
              "  </style>\n",
              "\n",
              "      <script>\n",
              "        const buttonEl =\n",
              "          document.querySelector('#df-1d049c47-ae03-41bb-aa84-d2facbfb8056 button.colab-df-convert');\n",
              "        buttonEl.style.display =\n",
              "          google.colab.kernel.accessAllowed ? 'block' : 'none';\n",
              "\n",
              "        async function convertToInteractive(key) {\n",
              "          const element = document.querySelector('#df-1d049c47-ae03-41bb-aa84-d2facbfb8056');\n",
              "          const dataTable =\n",
              "            await google.colab.kernel.invokeFunction('convertToInteractive',\n",
              "                                                     [key], {});\n",
              "          if (!dataTable) return;\n",
              "\n",
              "          const docLinkHtml = 'Like what you see? Visit the ' +\n",
              "            '<a target=\"_blank\" href=https://colab.research.google.com/notebooks/data_table.ipynb>data table notebook</a>'\n",
              "            + ' to learn more about interactive tables.';\n",
              "          element.innerHTML = '';\n",
              "          dataTable['output_type'] = 'display_data';\n",
              "          await google.colab.output.renderOutput(dataTable, element);\n",
              "          const docLink = document.createElement('div');\n",
              "          docLink.innerHTML = docLinkHtml;\n",
              "          element.appendChild(docLink);\n",
              "        }\n",
              "      </script>\n",
              "    </div>\n",
              "  </div>\n",
              "  "
            ]
          },
          "metadata": {},
          "execution_count": 49
        }
      ]
    },
    {
      "cell_type": "code",
      "source": [
        "data_df.loc[:,['code', 'docstring']].head(12) # removing extra columns\n"
      ],
      "metadata": {
        "colab": {
          "base_uri": "https://localhost:8080/",
          "height": 426
        },
        "id": "ry06m5dHjXxe",
        "outputId": "06815037-d482-4453-a87f-814c339c8440"
      },
      "execution_count": 50,
      "outputs": [
        {
          "output_type": "execute_result",
          "data": {
            "text/plain": [
              "                                                 code  \\\n",
              "0   def split_phylogeny(p, level=\"s\"):\\n    \"\"\"\\n ...   \n",
              "1   def ensure_dir(d):\\n    \"\"\"\\n    Check to make...   \n",
              "2   def file_handle(fnh, mode=\"rU\"):\\n    \"\"\"\\n   ...   \n",
              "3   def gather_categories(imap, header, categories...   \n",
              "4   def parse_unifrac(unifracFN):\\n    \"\"\"\\n    Pa...   \n",
              "5   def parse_unifrac_v1_8(unifrac, file_data):\\n ...   \n",
              "6   def parse_unifrac_v1_9(unifrac, file_data):\\n ...   \n",
              "7   def color_mapping(sample_map, header, group_co...   \n",
              "8   def rev_c(read):\\n    \"\"\"\\n    return reverse ...   \n",
              "9   def shuffle_genome(genome, cat, fraction = flo...   \n",
              "10  def _prune(self, fit, p_max):\\n        \"\"\"\\n  ...   \n",
              "11  def find_best_rsquared(list_of_fits):\\n       ...   \n",
              "\n",
              "                                            docstring  \n",
              "0   Return either the full or truncated version of...  \n",
              "1   Check to make sure the supplied directory path...  \n",
              "2   Takes either a file path or an open file handl...  \n",
              "3   Find the user specified categories in the map ...  \n",
              "4   Parses the unifrac results file into a diction...  \n",
              "5   Function to parse data from older version of u...  \n",
              "6   Function to parse data from newer version of u...  \n",
              "7   Determine color-category mapping. If color_col...  \n",
              "8                  return reverse completment of read  \n",
              "9                             randomly shuffle genome  \n",
              "10  If the fit contains statistically insignifican...  \n",
              "11             Return the best fit, based on rsquared  "
            ],
            "text/html": [
              "\n",
              "  <div id=\"df-5bc395d6-83a1-4fcf-a9e6-3105b9851011\">\n",
              "    <div class=\"colab-df-container\">\n",
              "      <div>\n",
              "<style scoped>\n",
              "    .dataframe tbody tr th:only-of-type {\n",
              "        vertical-align: middle;\n",
              "    }\n",
              "\n",
              "    .dataframe tbody tr th {\n",
              "        vertical-align: top;\n",
              "    }\n",
              "\n",
              "    .dataframe thead th {\n",
              "        text-align: right;\n",
              "    }\n",
              "</style>\n",
              "<table border=\"1\" class=\"dataframe\">\n",
              "  <thead>\n",
              "    <tr style=\"text-align: right;\">\n",
              "      <th></th>\n",
              "      <th>code</th>\n",
              "      <th>docstring</th>\n",
              "    </tr>\n",
              "  </thead>\n",
              "  <tbody>\n",
              "    <tr>\n",
              "      <th>0</th>\n",
              "      <td>def split_phylogeny(p, level=\"s\"):\\n    \"\"\"\\n ...</td>\n",
              "      <td>Return either the full or truncated version of...</td>\n",
              "    </tr>\n",
              "    <tr>\n",
              "      <th>1</th>\n",
              "      <td>def ensure_dir(d):\\n    \"\"\"\\n    Check to make...</td>\n",
              "      <td>Check to make sure the supplied directory path...</td>\n",
              "    </tr>\n",
              "    <tr>\n",
              "      <th>2</th>\n",
              "      <td>def file_handle(fnh, mode=\"rU\"):\\n    \"\"\"\\n   ...</td>\n",
              "      <td>Takes either a file path or an open file handl...</td>\n",
              "    </tr>\n",
              "    <tr>\n",
              "      <th>3</th>\n",
              "      <td>def gather_categories(imap, header, categories...</td>\n",
              "      <td>Find the user specified categories in the map ...</td>\n",
              "    </tr>\n",
              "    <tr>\n",
              "      <th>4</th>\n",
              "      <td>def parse_unifrac(unifracFN):\\n    \"\"\"\\n    Pa...</td>\n",
              "      <td>Parses the unifrac results file into a diction...</td>\n",
              "    </tr>\n",
              "    <tr>\n",
              "      <th>5</th>\n",
              "      <td>def parse_unifrac_v1_8(unifrac, file_data):\\n ...</td>\n",
              "      <td>Function to parse data from older version of u...</td>\n",
              "    </tr>\n",
              "    <tr>\n",
              "      <th>6</th>\n",
              "      <td>def parse_unifrac_v1_9(unifrac, file_data):\\n ...</td>\n",
              "      <td>Function to parse data from newer version of u...</td>\n",
              "    </tr>\n",
              "    <tr>\n",
              "      <th>7</th>\n",
              "      <td>def color_mapping(sample_map, header, group_co...</td>\n",
              "      <td>Determine color-category mapping. If color_col...</td>\n",
              "    </tr>\n",
              "    <tr>\n",
              "      <th>8</th>\n",
              "      <td>def rev_c(read):\\n    \"\"\"\\n    return reverse ...</td>\n",
              "      <td>return reverse completment of read</td>\n",
              "    </tr>\n",
              "    <tr>\n",
              "      <th>9</th>\n",
              "      <td>def shuffle_genome(genome, cat, fraction = flo...</td>\n",
              "      <td>randomly shuffle genome</td>\n",
              "    </tr>\n",
              "    <tr>\n",
              "      <th>10</th>\n",
              "      <td>def _prune(self, fit, p_max):\\n        \"\"\"\\n  ...</td>\n",
              "      <td>If the fit contains statistically insignifican...</td>\n",
              "    </tr>\n",
              "    <tr>\n",
              "      <th>11</th>\n",
              "      <td>def find_best_rsquared(list_of_fits):\\n       ...</td>\n",
              "      <td>Return the best fit, based on rsquared</td>\n",
              "    </tr>\n",
              "  </tbody>\n",
              "</table>\n",
              "</div>\n",
              "      <button class=\"colab-df-convert\" onclick=\"convertToInteractive('df-5bc395d6-83a1-4fcf-a9e6-3105b9851011')\"\n",
              "              title=\"Convert this dataframe to an interactive table.\"\n",
              "              style=\"display:none;\">\n",
              "        \n",
              "  <svg xmlns=\"http://www.w3.org/2000/svg\" height=\"24px\"viewBox=\"0 0 24 24\"\n",
              "       width=\"24px\">\n",
              "    <path d=\"M0 0h24v24H0V0z\" fill=\"none\"/>\n",
              "    <path d=\"M18.56 5.44l.94 2.06.94-2.06 2.06-.94-2.06-.94-.94-2.06-.94 2.06-2.06.94zm-11 1L8.5 8.5l.94-2.06 2.06-.94-2.06-.94L8.5 2.5l-.94 2.06-2.06.94zm10 10l.94 2.06.94-2.06 2.06-.94-2.06-.94-.94-2.06-.94 2.06-2.06.94z\"/><path d=\"M17.41 7.96l-1.37-1.37c-.4-.4-.92-.59-1.43-.59-.52 0-1.04.2-1.43.59L10.3 9.45l-7.72 7.72c-.78.78-.78 2.05 0 2.83L4 21.41c.39.39.9.59 1.41.59.51 0 1.02-.2 1.41-.59l7.78-7.78 2.81-2.81c.8-.78.8-2.07 0-2.86zM5.41 20L4 18.59l7.72-7.72 1.47 1.35L5.41 20z\"/>\n",
              "  </svg>\n",
              "      </button>\n",
              "      \n",
              "  <style>\n",
              "    .colab-df-container {\n",
              "      display:flex;\n",
              "      flex-wrap:wrap;\n",
              "      gap: 12px;\n",
              "    }\n",
              "\n",
              "    .colab-df-convert {\n",
              "      background-color: #E8F0FE;\n",
              "      border: none;\n",
              "      border-radius: 50%;\n",
              "      cursor: pointer;\n",
              "      display: none;\n",
              "      fill: #1967D2;\n",
              "      height: 32px;\n",
              "      padding: 0 0 0 0;\n",
              "      width: 32px;\n",
              "    }\n",
              "\n",
              "    .colab-df-convert:hover {\n",
              "      background-color: #E2EBFA;\n",
              "      box-shadow: 0px 1px 2px rgba(60, 64, 67, 0.3), 0px 1px 3px 1px rgba(60, 64, 67, 0.15);\n",
              "      fill: #174EA6;\n",
              "    }\n",
              "\n",
              "    [theme=dark] .colab-df-convert {\n",
              "      background-color: #3B4455;\n",
              "      fill: #D2E3FC;\n",
              "    }\n",
              "\n",
              "    [theme=dark] .colab-df-convert:hover {\n",
              "      background-color: #434B5C;\n",
              "      box-shadow: 0px 1px 3px 1px rgba(0, 0, 0, 0.15);\n",
              "      filter: drop-shadow(0px 1px 2px rgba(0, 0, 0, 0.3));\n",
              "      fill: #FFFFFF;\n",
              "    }\n",
              "  </style>\n",
              "\n",
              "      <script>\n",
              "        const buttonEl =\n",
              "          document.querySelector('#df-5bc395d6-83a1-4fcf-a9e6-3105b9851011 button.colab-df-convert');\n",
              "        buttonEl.style.display =\n",
              "          google.colab.kernel.accessAllowed ? 'block' : 'none';\n",
              "\n",
              "        async function convertToInteractive(key) {\n",
              "          const element = document.querySelector('#df-5bc395d6-83a1-4fcf-a9e6-3105b9851011');\n",
              "          const dataTable =\n",
              "            await google.colab.kernel.invokeFunction('convertToInteractive',\n",
              "                                                     [key], {});\n",
              "          if (!dataTable) return;\n",
              "\n",
              "          const docLinkHtml = 'Like what you see? Visit the ' +\n",
              "            '<a target=\"_blank\" href=https://colab.research.google.com/notebooks/data_table.ipynb>data table notebook</a>'\n",
              "            + ' to learn more about interactive tables.';\n",
              "          element.innerHTML = '';\n",
              "          dataTable['output_type'] = 'display_data';\n",
              "          await google.colab.output.renderOutput(dataTable, element);\n",
              "          const docLink = document.createElement('div');\n",
              "          docLink.innerHTML = docLinkHtml;\n",
              "          element.appendChild(docLink);\n",
              "        }\n",
              "      </script>\n",
              "    </div>\n",
              "  </div>\n",
              "  "
            ]
          },
          "metadata": {},
          "execution_count": 50
        }
      ]
    },
    {
      "cell_type": "markdown",
      "source": [
        "**DataLoader**"
      ],
      "metadata": {
        "id": "pDsHZPOSb2lA"
      }
    },
    {
      "cell_type": "code",
      "source": [
        "\n",
        "\n",
        "class Code2DocDataset(Dataset):\n",
        "  def __init__(self, df, is_test=False):\n",
        "        self.df = df.reset_index(drop=True)\n",
        "        self.is_test = is_test\n",
        "\n",
        "  def __getitem__(self, idx):\n",
        "    sample = self.df.loc[:,['code', 'docstring']]    \n",
        "    return dict(sample.loc[idx]) # return dict\n",
        "\n",
        "  def __len__(self):\n",
        "    return len(self.df)\n"
      ],
      "metadata": {
        "id": "C5E_ss8eh1ft"
      },
      "execution_count": 51,
      "outputs": []
    },
    {
      "cell_type": "code",
      "source": [
        "from torch.utils.data import Dataset, DataLoader\n",
        "\n",
        "train_set = Code2DocDataset(data_df)\n",
        "train_loader = DataLoader(train_set)"
      ],
      "metadata": {
        "id": "VuV1sV2CkQgT"
      },
      "execution_count": 52,
      "outputs": []
    },
    {
      "cell_type": "code",
      "source": [
        "from transformers import RobertaConfig, RobertaModel, RobertaTokenizer\n",
        "\n",
        "config = RobertaConfig.from_pretrained(\"microsoft/codebert-base\")\n",
        "tokenizer = RobertaTokenizer.from_pretrained(\n",
        "    \"microsoft/codebert-base\", do_lower_case=False\n",
        ")"
      ],
      "metadata": {
        "id": "QrRMPQuDoY28"
      },
      "execution_count": 53,
      "outputs": []
    },
    {
      "cell_type": "markdown",
      "source": [
        "**Tokenizer**"
      ],
      "metadata": {
        "id": "rhKf9s-wbweH"
      }
    },
    {
      "cell_type": "code",
      "source": [
        "tokenizer(\"Hello World! Valar Morghulis\")"
      ],
      "metadata": {
        "colab": {
          "base_uri": "https://localhost:8080/"
        },
        "id": "1q-NWdImZyQv",
        "outputId": "cd80b837-c833-43f9-93d9-f50b46ef954a"
      },
      "execution_count": 54,
      "outputs": [
        {
          "output_type": "execute_result",
          "data": {
            "text/plain": [
              "{'input_ids': [0, 31414, 623, 328, 3767, 271, 4266, 4147, 922, 354, 2], 'attention_mask': [1, 1, 1, 1, 1, 1, 1, 1, 1, 1, 1]}"
            ]
          },
          "metadata": {},
          "execution_count": 54
        }
      ]
    },
    {
      "cell_type": "code",
      "source": [
        "for i in train_loader:\n",
        "  print(i['docstring'])\n",
        "  print(tokenizer(i['docstring']))\n",
        "  print(i['code'])\n",
        "  print(tokenizer(i['code']))\n",
        "  break"
      ],
      "metadata": {
        "colab": {
          "base_uri": "https://localhost:8080/"
        },
        "id": "I9nbnV1TlS5M",
        "outputId": "7eb5777a-7274-48de-8296-c988c902fa93"
      },
      "execution_count": 55,
      "outputs": [
        {
          "output_type": "stream",
          "name": "stdout",
          "text": [
            "['Return either the full or truncated version of a QIIME-formatted taxonomy string.\\n\\n    :type p: str\\n    :param p: A QIIME-formatted taxonomy string: k__Foo; p__Bar; ...\\n\\n    :type level: str\\n    :param level: The different level of identification are kingdom (k), phylum (p),\\n                  class (c),order (o), family (f), genus (g) and species (s). If level is\\n                  not provided, the default level of identification is species.\\n\\n    :rtype: str\\n    :return: A QIIME-formatted taxonomy string up to the classification given\\n            by param level.']\n",
            "{'input_ids': [[0, 42555, 1169, 5, 455, 50, 43064, 1070, 1732, 9, 10, 1209, 100, 28417, 12, 3899, 19747, 629, 38217, 6755, 4, 50140, 1437, 1437, 1437, 4832, 12528, 181, 35, 7031, 50118, 1437, 1437, 1437, 4832, 46669, 181, 35, 83, 1209, 100, 28417, 12, 3899, 19747, 629, 38217, 6755, 35, 449, 30529, 597, 3036, 131, 181, 30529, 14507, 131, 1666, 50140, 1437, 1437, 1437, 4832, 12528, 672, 35, 7031, 50118, 1437, 1437, 1437, 4832, 46669, 672, 35, 20, 430, 672, 9, 10614, 32, 11673, 36, 330, 238, 7843, 47046, 36, 642, 238, 50118, 1437, 1437, 1437, 1437, 1437, 1437, 1437, 1437, 1437, 1437, 1437, 1437, 1437, 1437, 1437, 1437, 1437, 1380, 36, 438, 238, 10337, 36, 139, 238, 284, 36, 506, 238, 44878, 36, 571, 43, 8, 4707, 36, 29, 322, 318, 672, 16, 50118, 1437, 1437, 1437, 1437, 1437, 1437, 1437, 1437, 1437, 1437, 1437, 1437, 1437, 1437, 1437, 1437, 1437, 45, 1286, 6, 5, 6814, 672, 9, 10614, 16, 4707, 4, 50140, 1437, 1437, 1437, 4832, 338, 12528, 35, 7031, 50118, 1437, 1437, 1437, 4832, 30921, 35, 83, 1209, 100, 28417, 12, 3899, 19747, 629, 38217, 6755, 62, 7, 5, 20257, 576, 50118, 1437, 1437, 1437, 1437, 1437, 1437, 1437, 1437, 1437, 1437, 1437, 30, 40206, 672, 4, 2]], 'attention_mask': [[1, 1, 1, 1, 1, 1, 1, 1, 1, 1, 1, 1, 1, 1, 1, 1, 1, 1, 1, 1, 1, 1, 1, 1, 1, 1, 1, 1, 1, 1, 1, 1, 1, 1, 1, 1, 1, 1, 1, 1, 1, 1, 1, 1, 1, 1, 1, 1, 1, 1, 1, 1, 1, 1, 1, 1, 1, 1, 1, 1, 1, 1, 1, 1, 1, 1, 1, 1, 1, 1, 1, 1, 1, 1, 1, 1, 1, 1, 1, 1, 1, 1, 1, 1, 1, 1, 1, 1, 1, 1, 1, 1, 1, 1, 1, 1, 1, 1, 1, 1, 1, 1, 1, 1, 1, 1, 1, 1, 1, 1, 1, 1, 1, 1, 1, 1, 1, 1, 1, 1, 1, 1, 1, 1, 1, 1, 1, 1, 1, 1, 1, 1, 1, 1, 1, 1, 1, 1, 1, 1, 1, 1, 1, 1, 1, 1, 1, 1, 1, 1, 1, 1, 1, 1, 1, 1, 1, 1, 1, 1, 1, 1, 1, 1, 1, 1, 1, 1, 1, 1, 1, 1, 1, 1, 1, 1, 1, 1, 1, 1, 1, 1, 1, 1, 1, 1, 1, 1, 1, 1, 1, 1, 1, 1, 1, 1, 1, 1, 1, 1, 1, 1, 1, 1, 1, 1, 1, 1, 1, 1]]}\n",
            "['def split_phylogeny(p, level=\"s\"):\\n    \"\"\"\\n    Return either the full or truncated version of a QIIME-formatted taxonomy string.\\n\\n    :type p: str\\n    :param p: A QIIME-formatted taxonomy string: k__Foo; p__Bar; ...\\n\\n    :type level: str\\n    :param level: The different level of identification are kingdom (k), phylum (p),\\n                  class (c),order (o), family (f), genus (g) and species (s). If level is\\n                  not provided, the default level of identification is species.\\n\\n    :rtype: str\\n    :return: A QIIME-formatted taxonomy string up to the classification given\\n            by param level.\\n    \"\"\"\\n    level = level+\"__\"\\n    result = p.split(level)\\n    return result[0]+level+result[1].split(\";\")[0]']\n",
            "{'input_ids': [[0, 9232, 3462, 1215, 3792, 4360, 11575, 219, 1640, 642, 6, 672, 40635, 29, 113, 3256, 50118, 1437, 1437, 1437, 49434, 50118, 1437, 1437, 1437, 11968, 1169, 5, 455, 50, 43064, 1070, 1732, 9, 10, 1209, 100, 28417, 12, 3899, 19747, 629, 38217, 6755, 4, 50140, 1437, 1437, 1437, 4832, 12528, 181, 35, 7031, 50118, 1437, 1437, 1437, 4832, 46669, 181, 35, 83, 1209, 100, 28417, 12, 3899, 19747, 629, 38217, 6755, 35, 449, 30529, 597, 3036, 131, 181, 30529, 14507, 131, 1666, 50140, 1437, 1437, 1437, 4832, 12528, 672, 35, 7031, 50118, 1437, 1437, 1437, 4832, 46669, 672, 35, 20, 430, 672, 9, 10614, 32, 11673, 36, 330, 238, 7843, 47046, 36, 642, 238, 50118, 1437, 1437, 1437, 1437, 1437, 1437, 1437, 1437, 1437, 1437, 1437, 1437, 1437, 1437, 1437, 1437, 1437, 1380, 36, 438, 238, 10337, 36, 139, 238, 284, 36, 506, 238, 44878, 36, 571, 43, 8, 4707, 36, 29, 322, 318, 672, 16, 50118, 1437, 1437, 1437, 1437, 1437, 1437, 1437, 1437, 1437, 1437, 1437, 1437, 1437, 1437, 1437, 1437, 1437, 45, 1286, 6, 5, 6814, 672, 9, 10614, 16, 4707, 4, 50140, 1437, 1437, 1437, 4832, 338, 12528, 35, 7031, 50118, 1437, 1437, 1437, 4832, 30921, 35, 83, 1209, 100, 28417, 12, 3899, 19747, 629, 38217, 6755, 62, 7, 5, 20257, 576, 50118, 1437, 1437, 1437, 1437, 1437, 1437, 1437, 1437, 1437, 1437, 1437, 30, 40206, 672, 4, 50118, 1437, 1437, 1437, 49434, 50118, 1437, 1437, 1437, 672, 5457, 672, 2744, 113, 30529, 113, 50118, 1437, 1437, 1437, 898, 5457, 181, 4, 44154, 1640, 4483, 43, 50118, 1437, 1437, 1437, 671, 898, 10975, 288, 49154, 4483, 2744, 43155, 10975, 134, 8174, 44154, 46469, 131, 8070, 10975, 288, 742, 2]], 'attention_mask': [[1, 1, 1, 1, 1, 1, 1, 1, 1, 1, 1, 1, 1, 1, 1, 1, 1, 1, 1, 1, 1, 1, 1, 1, 1, 1, 1, 1, 1, 1, 1, 1, 1, 1, 1, 1, 1, 1, 1, 1, 1, 1, 1, 1, 1, 1, 1, 1, 1, 1, 1, 1, 1, 1, 1, 1, 1, 1, 1, 1, 1, 1, 1, 1, 1, 1, 1, 1, 1, 1, 1, 1, 1, 1, 1, 1, 1, 1, 1, 1, 1, 1, 1, 1, 1, 1, 1, 1, 1, 1, 1, 1, 1, 1, 1, 1, 1, 1, 1, 1, 1, 1, 1, 1, 1, 1, 1, 1, 1, 1, 1, 1, 1, 1, 1, 1, 1, 1, 1, 1, 1, 1, 1, 1, 1, 1, 1, 1, 1, 1, 1, 1, 1, 1, 1, 1, 1, 1, 1, 1, 1, 1, 1, 1, 1, 1, 1, 1, 1, 1, 1, 1, 1, 1, 1, 1, 1, 1, 1, 1, 1, 1, 1, 1, 1, 1, 1, 1, 1, 1, 1, 1, 1, 1, 1, 1, 1, 1, 1, 1, 1, 1, 1, 1, 1, 1, 1, 1, 1, 1, 1, 1, 1, 1, 1, 1, 1, 1, 1, 1, 1, 1, 1, 1, 1, 1, 1, 1, 1, 1, 1, 1, 1, 1, 1, 1, 1, 1, 1, 1, 1, 1, 1, 1, 1, 1, 1, 1, 1, 1, 1, 1, 1, 1, 1, 1, 1, 1, 1, 1, 1, 1, 1, 1, 1, 1, 1, 1, 1, 1, 1, 1, 1, 1, 1, 1, 1, 1, 1, 1, 1, 1, 1, 1, 1, 1, 1, 1, 1, 1, 1, 1, 1, 1, 1, 1, 1, 1, 1, 1, 1, 1, 1, 1]]}\n"
          ]
        }
      ]
    },
    {
      "cell_type": "markdown",
      "source": [
        "**Model**"
      ],
      "metadata": {
        "id": "bUB3ptbKcN3B"
      }
    },
    {
      "cell_type": "code",
      "source": [
        "from transformers import RobertaConfig, RobertaModel, RobertaTokenizer\n",
        "\n",
        "config = RobertaConfig.from_pretrained(\"microsoft/codebert-base\")\n",
        "tokenizer = RobertaTokenizer.from_pretrained(\n",
        "    \"microsoft/codebert-base\", do_lower_case=False\n",
        ")"
      ],
      "metadata": {
        "id": "4g8OKz66hh4D"
      },
      "execution_count": 56,
      "outputs": []
    },
    {
      "cell_type": "code",
      "source": [
        ""
      ],
      "metadata": {
        "id": "tqkBnZaBlZDR"
      },
      "execution_count": 56,
      "outputs": []
    }
  ]
}